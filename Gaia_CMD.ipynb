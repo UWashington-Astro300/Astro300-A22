{
 "cells": [
  {
   "cell_type": "markdown",
   "metadata": {},
   "source": [
    "# Gaia CMD"
   ]
  },
  {
   "cell_type": "code",
   "execution_count": 1,
   "metadata": {
    "collapsed": false,
    "jupyter": {
     "outputs_hidden": false
    }
   },
   "outputs": [],
   "source": [
    "import matplotlib.pyplot as plt\n",
    "import numpy as np\n",
    "\n",
    "from astropy.table import QTable\n",
    "from astropy import units as u\n",
    "from astropy.coordinates import SkyCoord\n",
    "\n",
    "from astroplan import FixedTarget\n",
    "from astroplan.plots import plot_finder_image\n",
    "from matplotlib.patches import Rectangle, Circle, Ellipse, Polygon\n",
    "\n",
    "from astroquery.gaia import Gaia\n",
    "\n",
    "import warnings\n",
    "warnings.filterwarnings(\"ignore\", category = UserWarning)"
   ]
  },
  {
   "cell_type": "markdown",
   "metadata": {},
   "source": [
    "---\n",
    "# Instructions\n",
    "\n",
    "The goal of this assignment is to demonstrate your python skills in making a color-magnitude diagram from Gaia data.\n",
    "\n",
    "This ideas and techniques used in this assignment can be found in the `Python_Plotting_Annotate` notebook\n",
    "\n",
    "Your first step is to pick a point in space **far from the galacitic plane** (the blue regions in the plot below). The reason for\n",
    "this is that we want to pick a region that has little gas and dust. This gas and dust effects the colors of observed object making\n",
    "them appear more red. We want to avoid this reddening.\n",
    "\n",
    "### Pick and RA and a DEC far away from the galactic plane."
   ]
  },
  {
   "cell_type": "markdown",
   "metadata": {},
   "source": [
    "&nbsp;\n",
    "\n",
    "<p>\n",
    "<img src=\"./images/GalCoords.jpg\" width = \"1000\">\n",
    "</p>"
   ]
  },
  {
   "cell_type": "markdown",
   "metadata": {},
   "source": [
    "### Enter the coordinates of the center of your field\n",
    "\n",
    "- Replace the **XXX** with your coordinates"
   ]
  },
  {
   "cell_type": "code",
   "execution_count": null,
   "metadata": {},
   "outputs": [],
   "source": [
    "my_object_ra = XXX * u.hourangle\n",
    "my_object_dec = XXX * u.deg"
   ]
  },
  {
   "cell_type": "markdown",
   "metadata": {},
   "source": [
    "### Use `FixedTarget` from `astroplan` to get setup a target object. Make sure to give it a name.\n",
    "\n",
    "- #### `FixedTarget(coord = SkyCoord(ra = my_object_ra, dec = my_object_dec), name = NAME)`"
   ]
  },
  {
   "cell_type": "code",
   "execution_count": null,
   "metadata": {},
   "outputs": [],
   "source": []
  },
  {
   "cell_type": "markdown",
   "metadata": {},
   "source": [
    "### Use `plot_finder_image` to get get an image of your field from the [ESO Online Digitized Sky Survey](http://archive.eso.org/dss/dss)."
   ]
  },
  {
   "cell_type": "code",
   "execution_count": null,
   "metadata": {},
   "outputs": [],
   "source": []
  },
  {
   "cell_type": "markdown",
   "metadata": {},
   "source": [
    "## Get the the [Gaia data](https://www.cosmos.esa.int/web/gaia/dr3) for your field\n",
    "\n",
    "- Get the data for the 3,000 (at most) **nearest** stars.\n",
    "- They should all be within **0.5 degress** of your target coordinates.\n",
    "- You will want the columns: `source_id, ra, dec, phot_g_mean_mag, bp_rp, parallax`"
   ]
  },
  {
   "cell_type": "code",
   "execution_count": null,
   "metadata": {},
   "outputs": [],
   "source": []
  },
  {
   "cell_type": "code",
   "execution_count": null,
   "metadata": {},
   "outputs": [],
   "source": []
  },
  {
   "cell_type": "code",
   "execution_count": null,
   "metadata": {},
   "outputs": [],
   "source": []
  },
  {
   "cell_type": "markdown",
   "metadata": {},
   "source": [
    "### Use `parallax` and `phot_g_mean_mag` to get **distance** (in pc) and the **absolute magnitude** ($G_{M}$)\n",
    "\n",
    "- Add them as columns to the data table"
   ]
  },
  {
   "cell_type": "code",
   "execution_count": null,
   "metadata": {},
   "outputs": [],
   "source": []
  },
  {
   "cell_type": "code",
   "execution_count": null,
   "metadata": {},
   "outputs": [],
   "source": []
  },
  {
   "cell_type": "code",
   "execution_count": null,
   "metadata": {},
   "outputs": [],
   "source": []
  },
  {
   "cell_type": "markdown",
   "metadata": {
    "tags": []
   },
   "source": [
    "---\n",
    "\n",
    "# Make an annotated color magnitude diagram (BP-RP vs. $G_{M}$) of your field.\n",
    "\n",
    "### Minimum requirements for 12 points:\n",
    "\n",
    "- A figure size of 15 in x 15 in\n",
    "- Both axes labeled\n",
    "- A title for the figure\n",
    "- The main sequence indicated in some way\n",
    "- A symbol and label placed at the position of the Sun (**BP-RP** = 0.82, $G_{M}$ = 4.67)\n",
    "\n",
    "### You can earn more points by adding more information and annotations.\n",
    "\n",
    "- Take a look at the file `GaiaInfo.pdf` in your Info directory. The Gaia CMD on the back is a good source of ideas.\n",
    "- The Chapter - *The Classification of Stellar Spectra* from Carroll and Ostlie (BOB) is another good place to look.\n",
    "- All of Astro 322 is fair game.\n",
    "- Figuring out and labeling non-stellar objects will bring in the points\n",
    "  - These objects will have anomalous values of **BP-RP** and $G_{M}$ "
   ]
  },
  {
   "cell_type": "code",
   "execution_count": null,
   "metadata": {},
   "outputs": [],
   "source": []
  },
  {
   "cell_type": "markdown",
   "metadata": {},
   "source": [
    "---\n",
    "\n",
    "### Save and download a PNG version of your figure. You will need this for the final assignment of the class.\n",
    "\n",
    "- Feel free to change the name of the file if you wish."
   ]
  },
  {
   "cell_type": "code",
   "execution_count": null,
   "metadata": {},
   "outputs": [],
   "source": [
    "fig.savefig('My_Cool_Plot.png', bbox_inches='tight')"
   ]
  },
  {
   "cell_type": "markdown",
   "metadata": {},
   "source": [
    "### Due Mon Nov 28  - 1 pm\n",
    "- `File -> Download as -> HTML (.html)`\n",
    "- `upload your .html file to the class Canvas page`"
   ]
  },
  {
   "cell_type": "code",
   "execution_count": null,
   "metadata": {},
   "outputs": [],
   "source": []
  }
 ],
 "metadata": {
  "anaconda-cloud": {},
  "kernelspec": {
   "display_name": "Python 3 (ipykernel)",
   "language": "python",
   "name": "python3"
  },
  "language_info": {
   "codemirror_mode": {
    "name": "ipython",
    "version": 3
   },
   "file_extension": ".py",
   "mimetype": "text/x-python",
   "name": "python",
   "nbconvert_exporter": "python",
   "pygments_lexer": "ipython3",
   "version": "3.9.7"
  }
 },
 "nbformat": 4,
 "nbformat_minor": 4
}
