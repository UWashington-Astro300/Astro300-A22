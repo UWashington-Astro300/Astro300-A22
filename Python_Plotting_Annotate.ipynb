{
 "cells": [
  {
   "cell_type": "markdown",
   "metadata": {},
   "source": [
    "# Putting it all together"
   ]
  },
  {
   "cell_type": "code",
   "execution_count": null,
   "metadata": {
    "collapsed": false,
    "jupyter": {
     "outputs_hidden": false
    }
   },
   "outputs": [],
   "source": [
    "import matplotlib.pyplot as plt\n",
    "import numpy as np\n",
    "\n",
    "from matplotlib.patches import Rectangle, Circle, Ellipse, Polygon\n",
    "\n",
    "from astropy.table import QTable\n",
    "from astropy import units as u\n",
    "\n",
    "from astroplan import Observer, FixedTarget\n",
    "from astroplan.plots import plot_finder_image\n",
    "\n",
    "from astroquery.gaia import Gaia\n",
    "\n",
    "import warnings\n",
    "warnings.filterwarnings(\"ignore\", category = UserWarning)"
   ]
  },
  {
   "cell_type": "markdown",
   "metadata": {},
   "source": [
    "### Use `FixedTarget` from `astroplan` to get coordinates for a target object"
   ]
  },
  {
   "cell_type": "code",
   "execution_count": null,
   "metadata": {},
   "outputs": [],
   "source": [
    "my_object = \"NGC 2682\"  # NGC 2682 (M 67) is an open cluster in Cancer."
   ]
  },
  {
   "cell_type": "code",
   "execution_count": null,
   "metadata": {},
   "outputs": [],
   "source": [
    "my_target = FixedTarget.from_name(my_object)"
   ]
  },
  {
   "cell_type": "code",
   "execution_count": null,
   "metadata": {},
   "outputs": [],
   "source": [
    "my_target.coord"
   ]
  },
  {
   "cell_type": "code",
   "execution_count": null,
   "metadata": {},
   "outputs": [],
   "source": [
    "my_target.dec.degree"
   ]
  },
  {
   "cell_type": "code",
   "execution_count": null,
   "metadata": {},
   "outputs": [],
   "source": [
    "my_target.ra.degree"
   ]
  },
  {
   "cell_type": "markdown",
   "metadata": {},
   "source": [
    "#### Use `plot_finder_image` to get get an images of the object from the [ESO Online Digitized Sky Survey](http://archive.eso.org/dss/dss)."
   ]
  },
  {
   "cell_type": "code",
   "execution_count": null,
   "metadata": {},
   "outputs": [],
   "source": [
    "ax, hdu = plot_finder_image(my_target, fov_radius= 0.4 * u.deg)"
   ]
  },
  {
   "cell_type": "markdown",
   "metadata": {},
   "source": [
    "## Get the the [Gaia data](https://www.cosmos.esa.int/web/gaia/dr3) for the object\n",
    "\n",
    "- Note the use of `f-string` and variables in the query"
   ]
  },
  {
   "cell_type": "code",
   "execution_count": null,
   "metadata": {},
   "outputs": [],
   "source": [
    "my_query = f\"\"\"\n",
    "SELECT TOP 3000\n",
    "source_id, ra, dec, phot_g_mean_mag, bp_rp, parallax\n",
    "FROM gaiadr3.gaia_source_lite\n",
    "WHERE CONTAINS(\n",
    "   POINT('ICRS', {my_target.ra.degree}, {my_target.dec.degree}),\n",
    "   CIRCLE('ICRS', ra, dec, 0.3)\n",
    "   ) = 1\n",
    "AND parallax > 0.1\n",
    "AND bp_rp IS NOT NULL\n",
    "ORDER BY parallax DESC\n",
    "\"\"\""
   ]
  },
  {
   "cell_type": "code",
   "execution_count": null,
   "metadata": {},
   "outputs": [],
   "source": [
    "print(my_query)"
   ]
  },
  {
   "cell_type": "code",
   "execution_count": null,
   "metadata": {},
   "outputs": [],
   "source": [
    "my_job_query = Gaia.launch_job(my_query)"
   ]
  },
  {
   "cell_type": "code",
   "execution_count": null,
   "metadata": {},
   "outputs": [],
   "source": [
    "print(my_job_query)"
   ]
  },
  {
   "cell_type": "code",
   "execution_count": null,
   "metadata": {},
   "outputs": [],
   "source": [
    "my_table = my_job_query.get_results()"
   ]
  },
  {
   "cell_type": "code",
   "execution_count": null,
   "metadata": {},
   "outputs": [],
   "source": [
    "my_table[0:2]"
   ]
  },
  {
   "cell_type": "markdown",
   "metadata": {},
   "source": [
    "### Use `parallax` and `phot_g_mean_mag` to get **distance** and **absolute magnitude**\n",
    "\n",
    "- Add then as columns to the data table"
   ]
  },
  {
   "cell_type": "code",
   "execution_count": null,
   "metadata": {},
   "outputs": [],
   "source": [
    "distance_to_object = my_table['parallax'].to(u.parsec, equivalencies=u.parallax())\n",
    "\n",
    "my_table['distance'] = distance_to_object"
   ]
  },
  {
   "cell_type": "code",
   "execution_count": null,
   "metadata": {},
   "outputs": [],
   "source": [
    "my_table[0:2]"
   ]
  },
  {
   "cell_type": "code",
   "execution_count": null,
   "metadata": {},
   "outputs": [],
   "source": [
    "def find_absmag(my_gmag, my_distance):\n",
    "    result = my_gmag - 5 * np.log10( my_distance / (10 * u.parsec)) * u.mag\n",
    "    return result"
   ]
  },
  {
   "cell_type": "code",
   "execution_count": null,
   "metadata": {},
   "outputs": [],
   "source": [
    "my_table['abs_g'] = find_absmag(my_table['phot_g_mean_mag'], my_table['distance']) * u.mag"
   ]
  },
  {
   "cell_type": "code",
   "execution_count": null,
   "metadata": {},
   "outputs": [],
   "source": [
    "my_table[0:2]"
   ]
  },
  {
   "cell_type": "markdown",
   "metadata": {},
   "source": [
    "## Plot a histogram of the distances\n",
    "\n",
    "- All the stars in the cluster should have the same distance\n",
    "- Objects not in the cluster will have different distances"
   ]
  },
  {
   "cell_type": "code",
   "execution_count": null,
   "metadata": {},
   "outputs": [],
   "source": [
    "fig, ax = plt.subplots(\n",
    "    figsize = (8, 5), \n",
    "    constrained_layout = True\n",
    ")\n",
    "\n",
    "ax.set_xlabel(\"Distance (pc)\")\n",
    "ax.set_ylabel(\"Number\")\n",
    "\n",
    "ax.hist(my_table['distance'],\n",
    "        bins = 100,\n",
    "        histtype = 'stepfilled',\n",
    "        facecolor = 'MediumOrchid');"
   ]
  },
  {
   "cell_type": "markdown",
   "metadata": {},
   "source": [
    "## Pretty easy to see the cluster's distance\n",
    "\n",
    "- Use the **median** of the data as an easy (rough) estimate to the cluster distance.\n",
    "- Make a subset of the data of all objects within 100 pc of the median\n",
    "  - `| distance - median | < 100`"
   ]
  },
  {
   "cell_type": "code",
   "execution_count": null,
   "metadata": {},
   "outputs": [],
   "source": [
    "np.median(my_table['distance'])"
   ]
  },
  {
   "cell_type": "markdown",
   "metadata": {},
   "source": [
    "#### The cluster distance from the literature is 800 - 900 pc, so this value seems fine."
   ]
  },
  {
   "cell_type": "code",
   "execution_count": null,
   "metadata": {},
   "outputs": [],
   "source": [
    "my_cluster_table = my_table[np.abs(my_table['distance'] - np.median(my_table['distance']) < 100)]"
   ]
  },
  {
   "cell_type": "code",
   "execution_count": null,
   "metadata": {},
   "outputs": [],
   "source": [
    "my_outlier_table = my_table[np.abs(my_table['distance'] - np.median(my_table['distance']) >= 100)]"
   ]
  },
  {
   "cell_type": "code",
   "execution_count": null,
   "metadata": {},
   "outputs": [],
   "source": [
    "len(my_cluster_table), len(my_outlier_table)"
   ]
  },
  {
   "cell_type": "markdown",
   "metadata": {},
   "source": [
    "## Make a color magnitude diagram (CMD) of the object"
   ]
  },
  {
   "cell_type": "code",
   "execution_count": null,
   "metadata": {},
   "outputs": [],
   "source": [
    "fig, ax = plt.subplots(\n",
    "    figsize = (15, 15), \n",
    "    constrained_layout = True\n",
    ")\n",
    "\n",
    "ax.set_ylim(-2.5,12)\n",
    "\n",
    "ax.set_aspect(1/4)         # Make 1 unit in X = 4 units in Y\n",
    "ax.invert_yaxis()\n",
    "\n",
    "ax.set_xlabel(\"BP - RP\",\n",
    "              fontfamily = 'serif',\n",
    "              fontsize = 25)\n",
    "\n",
    "ax.set_ylabel(r\"$G_{M}$\",\n",
    "              fontfamily = 'serif',\n",
    "              fontsize = 25)\n",
    "\n",
    "ax.set_title(f\"{my_target.name}\",\n",
    "             fontfamily = 'serif',\n",
    "             fontsize = 30)\n",
    "\n",
    "### Plot Data ###\n",
    "\n",
    "ax.plot(my_outlier_table['bp_rp'], my_outlier_table['abs_g'],\n",
    "        color = \"red\",\n",
    "        marker = \"+\",\n",
    "        linestyle = \"None\",\n",
    "        markersize = 5,\n",
    "        label = \"Outliers\")\n",
    "\n",
    "ax.plot(my_cluster_table['bp_rp'], my_cluster_table['abs_g'],\n",
    "        color = \"#4C0B5F\",\n",
    "        marker = \"o\",\n",
    "        linestyle = \"None\",\n",
    "        markersize = 5,\n",
    "        label = \"Cluster members\")\n",
    "\n",
    "ax.legend(loc=0, shadow=True);"
   ]
  },
  {
   "cell_type": "markdown",
   "metadata": {},
   "source": [
    "---\n",
    "\n",
    "# Annotate your plots with `annotate()`\n",
    "\n",
    "### There are 4 parameters that you use with `annotate()`.\n",
    "\n",
    "- `text` : the text label (string).\n",
    "- `xy = (X, Y)` : The coordinates (X, Y) where you want your arrowhead to point to.\n",
    "- `xytext = (X, Y)` : The coordinates (X, Y) where you want your `text` to display.\n",
    "- `arrowprops` : A dictionary of key-value pairs which define various properties for the arrow, such as color, size and arrowhead type.\n",
    "  - [List of Matplotlib Arrowstyles](https://coderslegacy.com/python/matplotlib-customize-arrowstyles/)\n",
    "  - [List of Matplotlib Arrowprops](https://coderslegacy.com/python/matplotlib-arrowprops/)\n",
    "  \n",
    "---"
   ]
  },
  {
   "cell_type": "code",
   "execution_count": null,
   "metadata": {},
   "outputs": [],
   "source": [
    "fig, ax = plt.subplots(\n",
    "    figsize = (15, 15), \n",
    "    constrained_layout = True\n",
    ")\n",
    "\n",
    "ax.set_ylim(-2.5,12)\n",
    "\n",
    "ax.set_aspect(1/4)         # Make 1 unit in X = 4 units in Y\n",
    "ax.invert_yaxis()\n",
    "\n",
    "ax.set_xlabel(\"BP - RP\",\n",
    "              fontfamily = 'serif',\n",
    "              fontsize = 25)\n",
    "\n",
    "ax.set_ylabel(r\"$G_{M}$\",\n",
    "              fontfamily = 'serif',\n",
    "              fontsize = 25)\n",
    "\n",
    "ax.set_title(f\"{my_target.name}\",\n",
    "             fontfamily = 'serif',\n",
    "             fontsize = 30)\n",
    "\n",
    "### Text Annotation ###\n",
    "\n",
    "ax.annotate('Main Sequence',\n",
    "             fontsize = 25,\n",
    "             color = 'green',\n",
    "             xy = (2.0, 7.0),\n",
    "             xytext = (2.0, 5.0),\n",
    "             arrowprops = {'color' : 'green',\n",
    "                           'linewidth' : 4,\n",
    "                           'arrowstyle' : '->, head_length = 0.8, head_width = 0.5'}\n",
    "           )\n",
    "\n",
    "\n",
    "ax.annotate('Main\\nSequence\\nTurnoff',\n",
    "             fontsize = 25,\n",
    "             color = 'blue',\n",
    "             xy = (0.7, 3.3),\n",
    "             xytext = (-0.3, 6.0),\n",
    "             arrowprops = {'color' : 'blue',\n",
    "                           'linewidth' : 4,\n",
    "                           'arrowstyle' : '-|>, head_length = 0.8, head_width = 0.3'}\n",
    "           )\n",
    "\n",
    "ax.annotate('Red Giant\\nBranch',\n",
    "             fontsize = 25,\n",
    "             color = 'red',\n",
    "             xy = (1.3, 1.5),\n",
    "             xytext = (1.7, 0.0),\n",
    "             arrowprops = {'color' : 'red',\n",
    "                           'linewidth' : 4,\n",
    "                           'arrowstyle' : '-|>, head_length = 0.8, head_width = 0.3',\n",
    "                           'connectionstyle' : 'angle3'}\n",
    "           )\n",
    "\n",
    "### Plot Data ###\n",
    "\n",
    "ax.plot(my_cluster_table['bp_rp'], my_cluster_table['abs_g'],\n",
    "        color = \"#4C0B5F\",\n",
    "        marker = \"o\",\n",
    "        linestyle = \"None\",\n",
    "        markersize = 5);"
   ]
  },
  {
   "cell_type": "markdown",
   "metadata": {},
   "source": [
    "---\n",
    "\n",
    "# Annotate your plots with Shapes\n",
    "\n",
    "- `Rectangle(center, width, height, **kwargs)`\n",
    "- `Circle(center, radius, **kwargs)`\n",
    "- `Ellipse(center, width, height, **kwargs)`\n",
    "- `Polygon(array of verticies)`\n",
    "\n",
    "### [Drawing Shapes with Matplotlib Patches](https://coderslegacy.com/python/drawing-shapes-matplotlib-patches/)\n",
    "---"
   ]
  },
  {
   "cell_type": "code",
   "execution_count": null,
   "metadata": {},
   "outputs": [],
   "source": [
    "fig, ax = plt.subplots(\n",
    "    figsize = (15, 15), \n",
    "    constrained_layout = True\n",
    ")\n",
    "\n",
    "ax.set_ylim(-2.5,12)\n",
    "\n",
    "ax.set_aspect(1/4)         # Make 1 unit in X = 4 units in Y\n",
    "ax.invert_yaxis()\n",
    "\n",
    "ax.set_xlabel(\"BP - RP\",\n",
    "              fontfamily = 'serif',\n",
    "              fontsize = 25)\n",
    "\n",
    "ax.set_ylabel(r\"$G_{M}$\",\n",
    "              fontfamily = 'serif',\n",
    "              fontsize = 25)\n",
    "\n",
    "ax.set_title(f\"{my_target.name}\",\n",
    "             fontfamily = 'serif',\n",
    "             fontsize = 30)\n",
    "\n",
    "### Text Annotation ###\n",
    "\n",
    "ax.annotate('Main Sequence',\n",
    "             fontsize = 25,\n",
    "             color = 'green',\n",
    "             xy = (2.0, 7.0),\n",
    "             xytext = (2.0, 5.0),\n",
    "             arrowprops = {'color' : 'green',\n",
    "                           'linewidth' : 4,\n",
    "                           'arrowstyle' : '->, head_length = 0.8, head_width = 0.5'}\n",
    "           )\n",
    "\n",
    "\n",
    "ax.annotate('Main\\nSequence\\nTurnoff',\n",
    "             fontsize = 25,\n",
    "             color = 'blue',\n",
    "             xy = (0.7, 3.3),\n",
    "             xytext = (-0.3, 6.0),\n",
    "             arrowprops = {'color' : 'blue',\n",
    "                           'linewidth' : 4,\n",
    "                           'arrowstyle' : '-|>, head_length = 0.8, head_width = 0.3'}\n",
    "           )\n",
    "\n",
    "ax.annotate('Red Giant\\nBranch',\n",
    "             fontsize = 25,\n",
    "             color = 'red',\n",
    "             xy = (1.3, 1.5),\n",
    "             xytext = (1.7, 0.0),\n",
    "             arrowprops = {'color' : 'red',\n",
    "                           'linewidth' : 4,\n",
    "                           'arrowstyle' : '-|>, head_length = 0.8, head_width = 0.3',\n",
    "                           'connectionstyle' : 'angle3'}\n",
    "           )\n",
    "\n",
    "### Shape Annotation ###\n",
    "\n",
    "my_shape_one = Ellipse((0.35, 2.1),\n",
    "                       width = 0.75,\n",
    "                       height = 2.85,\n",
    "                       angle = 0,\n",
    "                       color = (0, 0, 0.7, 0.2))\n",
    "\n",
    "ax.add_patch(my_shape_one)\n",
    "\n",
    "ax.text(-0.1, 0.4,\n",
    "       'Blue Stragglers',\n",
    "        color = (0, 0, 0.7, 0.5),\n",
    "        fontsize = 24);\n",
    "\n",
    "\n",
    "my_solar_shape = np.array( ((0.85, 5.2), (1.05, 5.2), (0.86, 4.2), (0.70, 4.2)) )\n",
    "\n",
    "my_shape_two = Polygon(my_solar_shape,\n",
    "                       facecolor = 'LemonChiffon',\n",
    "                       edgecolor = 'red',\n",
    "                       linewidth = 4)\n",
    "\n",
    "ax.add_patch(my_shape_two)\n",
    "\n",
    "ax.annotate('Solar-Type\\nStars',\n",
    "             fontsize = 25,\n",
    "             color = 'OrangeRed',\n",
    "             xy = (0.85, 5.4),\n",
    "             xytext = (0.5, 9.0),\n",
    "             arrowprops = {'facecolor' : 'LemonChiffon',\n",
    "                           'edgecolor' : 'red',\n",
    "                           'linewidth' : 4,\n",
    "                           'arrowstyle' : 'fancy, head_length = 1.8, head_width = 0.8, tail_width=0.5'}\n",
    "           )\n",
    "\n",
    "### Plot Data ###\n",
    "\n",
    "ax.plot(my_cluster_table['bp_rp'], my_cluster_table['abs_g'],\n",
    "        color = \"#4C0B5F\",\n",
    "        marker = \"o\",\n",
    "        linestyle = \"None\",\n",
    "        markersize = 5);"
   ]
  },
  {
   "cell_type": "code",
   "execution_count": null,
   "metadata": {},
   "outputs": [],
   "source": []
  }
 ],
 "metadata": {
  "anaconda-cloud": {},
  "kernelspec": {
   "display_name": "Python 3 (ipykernel)",
   "language": "python",
   "name": "python3"
  },
  "language_info": {
   "codemirror_mode": {
    "name": "ipython",
    "version": 3
   },
   "file_extension": ".py",
   "mimetype": "text/x-python",
   "name": "python",
   "nbconvert_exporter": "python",
   "pygments_lexer": "ipython3",
   "version": "3.9.7"
  }
 },
 "nbformat": 4,
 "nbformat_minor": 4
}
